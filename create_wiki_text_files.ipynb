{
 "cells": [
  {
   "cell_type": "code",
   "execution_count": 1,
   "metadata": {},
   "outputs": [],
   "source": [
    "# read all files in the folder: wiki\n",
    "\n",
    "import os\n",
    "import json\n",
    "from tqdm import tqdm\n",
    "import random"
   ]
  },
  {
   "cell_type": "markdown",
   "metadata": {},
   "source": [
    "### Read the wikipedia dataset and collect metadata"
   ]
  },
  {
   "cell_type": "code",
   "execution_count": 2,
   "metadata": {},
   "outputs": [
    {
     "name": "stderr",
     "output_type": "stream",
     "text": [
      "  0%|          | 0/242 [00:00<?, ?it/s]"
     ]
    },
    {
     "name": "stderr",
     "output_type": "stream",
     "text": [
      "100%|██████████| 242/242 [02:31<00:00,  1.59it/s]\n"
     ]
    }
   ],
   "source": [
    "info = []\n",
    "\n",
    "def read_files():\n",
    "    folder = 'wiki'\n",
    "    for filename in tqdm(os.listdir(folder)):\n",
    "        with open(os.path.join(folder, filename), 'r') as file:\n",
    "            ff = json.loads(file.read())\n",
    "            for i in ff:\n",
    "                info.append({\n",
    "                    \"id\": i['id'],\n",
    "                    \"length\": len(i['text']),\n",
    "                    \"filename\": filename\n",
    "                })\n",
    "\n",
    "read_files()\n"
   ]
  },
  {
   "cell_type": "markdown",
   "metadata": {},
   "source": [
    "### sort based on length of wikipedia text"
   ]
  },
  {
   "cell_type": "code",
   "execution_count": 3,
   "metadata": {},
   "outputs": [],
   "source": [
    "info = sorted(info, key=lambda x: x.get('length', 0))"
   ]
  },
  {
   "cell_type": "markdown",
   "metadata": {},
   "source": [
    "### Create and concatenate copies to make a large dataset with varied input sizes"
   ]
  },
  {
   "cell_type": "code",
   "execution_count": null,
   "metadata": {},
   "outputs": [],
   "source": [
    "# 60, 30, 15, 5, 1 times each file\n",
    "ind = [\n",
    "-1,\n",
    "-100,\n",
    "-500,\n",
    "-1000,\n",
    "-8000,\n",
    "-30000,\n",
    "-60000,\n",
    "-100000,\n",
    "-150000,\n",
    "-200000\n",
    "]\n",
    "\n",
    "def func(d):\n",
    "    with open('wiki/' + d['filename'], 'r') as file:\n",
    "        ff = json.loads(file.read())\n",
    "        for i in ff:\n",
    "            if i['id'] == d['id']:\n",
    "                return i['text']\n",
    "\n",
    "cnt = 0\n",
    "for i in ind:\n",
    "    a = func(info[i])\n",
    "    with open('input_files/text/' + str(cnt) + '.txt', 'w') as file:\n",
    "        file.write( (a) )\n",
    "    cnt += 1"
   ]
  },
  {
   "cell_type": "markdown",
   "metadata": {},
   "source": [
    "### Insert random sentences to ensure regex detection"
   ]
  },
  {
   "cell_type": "code",
   "execution_count": 34,
   "metadata": {},
   "outputs": [
    {
     "name": "stdout",
     "output_type": "stream",
     "text": [
      "\n"
     ]
    }
   ],
   "source": [
    "aaa = [\n",
    "    # Easy Patterns\n",
    "    [\"12\", \"45\", \"89\", \"00\", \"37\"],  # \\b[0-9]{2}\\b\n",
    "    [\"cat\", \"The cat\", \"cat food\", \"cat.\", \"a cat!\"],  # \\bcat\\b\n",
    "    [\"# Header\", \"# TODO\", \"# Note:\", \"#Start\", \"# End\"],  # ^#\n",
    "    [\".txt\", \".pdf\", \".doc\", \".jpg\", \".png\"],  # \\.[a-z]{3}\\b\n",
    "    [\"A\", \"B\", \"X\", \"M\", \"Z\"],  # \\b[A-Z]\\b\n",
    "    [\"   text\", \"     start\", \"\\tbegin\", \"  data\", \"\\t  line\"],  # ^[[:space:]]+\n",
    "    [\"abc\", \"xyz\", \"123\", \"def\", \"890\"],  # \\b[[:alnum:]]{3}\\b\n",
    "    [\"1-2\", \"3-4\", \"5-6\", \"7-8\", \"9-0\"],  # [0-9]-[0-9]\n",
    "    [\"apple\", \"eagle\", \"input\", \"ocean\", \"umbrella\"],  # [aeiou]\n",
    "    [\"0\", \"1\", \"0\", \"1\", \"0\"],  # \\b[01]\\b\n",
    "    [\"R\", \"G\", \"B\", \"RGB\", \"R G B\"],  # \\b[RGB]\\b\n",
    "    [\", text\", \",  space\", \", data\", \", next\", \", end\"],  # ,[[:space:]]\n",
    "    [\"hello\", \"world\", \"test\", \"code\", \"data\"],  # \\b[a-z]+\\b\n",
    "    [\"1 \", \"2 text\", \"3 data\", \"4 \", \"5 end\"],  # [0-9][[:space:]]\n",
    "    [\"N\", \"S\", \"E\", \"W\", \"NSEW\"],  # \\b[NSEW]\\b\n",
    "    [\"_a\", \"_1\", \"_x\", \"_9\", \"_Z\"],  # _[[:alnum:]]\n",
    "    [\"y\", \"n\", \"Y\", \"N\", \"y/n\"],  # \\b[yn]\\b\n",
    "    [\"(1)\", \"(2)\", \"(3)\", \"(4)\", \"(5)\"],  # \\([0-9]\\)\n",
    "    [\"AB\", \"CD\", \"XY\", \"PQ\", \"TZ\"],  # \\b[A-Z]{2}\\b\n",
    "    [\"123\", \"456\", \"789\", \"000\", \"999\"],  # \\b[0-9]{3}\\b\n",
    "    \n",
    "    # Medium Patterns\n",
    "    [\"12\", \"345\", \"6789\", \"00\", \"1234\"],  # \\b[0-9]{2,4}\\b\n",
    "    [\"John\", \"Mary\", \"Thomas\", \"Alice\", \"Peter\"],  # \\b[A-Z][a-z]+\\b\n",
    "    [\"1: \", \"2, \", \"42: \", \"99, \", \"100: \"],  # ^[0-9]+[,:][[:space:]]\n",
    "    [\"user@domain\", \"test@example\", \"a@b\", \"name@site\", \"info@host\"],  # \\b[[:alnum:]]+@[[:alnum:]]+\\b\n",
    "    [\"1.23\", \"45.67\", \"0.89\", \"12.3\", \"4.56\"],  # \\b[0-9]{1,3}\\.[0-9]{1,3}\\b\n",
    "    [\"log\", \"info\", \"error\", \"LOG\", \"ERROR\"],  # \\b(log|info|error)\\b\n",
    "    [\"12:34\", \"00:00\", \"23:59\", \"01:30\", \"22:15\"],  # \\b[0-9]{2}:[0-9]{2}\\b\n",
    "    [\"abc123\", \"test456\", \"code789\", \"data000\", \"info111\"],  # [A-Za-z]+[0-9]+\n",
    "    [\"get\", \"post\", \"put\", \"GET\", \"POST\"],  # \\b(get|post|put)\\b\n",
    "    [\"main()\", \"test()\", \"init()\", \"run()\", \"stop()\"],  # \\b[[:alnum:]]+\\(\\)\n",
    "    [\"\\\"hello\\\"\", \"\\\"test\\\"\", \"\\\"data\\\"\", \"\\\"\\\"\", \"\\\"123\\\"\"],  # \"[^\"]*\"\n",
    "    [\"2024-01-01\", \"2023-12-31\", \"2025-06-15\", \"2024-02-29\", \"2023-07-22\"],  # \\b[0-9]{4}-[0-9]{2}-[0-9]{2}\\b\n",
    "    [\"0x1F\", \"0xFF\", \"0x00\", \"0xAB\", \"0x12\"],  # \\b(0x[0-9A-F]+)\\b\n",
    "    [\"true\", \"false\", \"null\", \"TRUE\", \"FALSE\"],  # \\b(true|false|null)\\b\n",
    "    [\"// Comment\", \"//Note\", \"// TODO\", \"//Test\", \"// Fix\"],  # ^[[:space:]]*//.*$\n",
    "    [\"snake_case_var\", \"user_name_field\", \"data_type_int\", \"first_last_name\", \"min_max_value\"],  # \\b([a-z]+_){2,}\\b\n",
    "    [\"IBM\", \"NASA\", \"FBI\", \"CIA\", \"HTML\"],  # \\b[A-Z]{3,}\\b\n",
    "    [\"5k\", \"10mb\", \"2g\", \"500kb\", \"1gb\"],  # \\b[0-9]+[[:space:]]*[kmgb]\\b\n",
    "    [\"<!--test-->\", \"<!-- Note -->\", \"<!--TODO-->\", \"<!-- Fix -->\", \"<!--End-->\"],  # <!--.*-->\n",
    "    [\"11111111\", \"00000000\", \"10101010\", \"11110000\", \"00001111\"],  # \\b([01]{8})\\b\n",
    "\n",
    "    # Hard Patterns\n",
    "    [\"Test1\", \"Password2\", \"Secret3\", \"Secure4\", \"Strong5\"],  # ^(?=.*[A-Z])(?=.*[0-9]).*$\n",
    "    [\"192.168.1.1\", \"10.0.0.1\", \"172.16.0.1\", \"127.0.0.1\", \"8.8.8.8\"],  # IPv4\n",
    "    [\"test@example.com\", \"user@domain.co\", \"info@site.org\", \"name@host.io\", \"admin@server.net\"],  # Email validator\n",
    "    [\"1234 5678 9012 3456\", \"1234-5678-9012-3456\", \"1234567890123456\", \"0000 0000 0000 0000\", \"9999-9999-9999-9999\"],  # Card number\n",
    "    [\"http://example.com\", \"https://test.org\", \"http://site.net\", \"https://domain.io\", \"http://server.com\"],  # URL\n",
    "    [\"00:11:22:33:44:55\", \"AA:BB:CC:DD:EE:FF\", \"01-23-45-67-89-AB\", \"FF-EE-DD-CC-BB-AA\", \"12:34:56:78:90:AB\"],  # MAC\n",
    "    [\"<div>test</div>\", \"<p>text</p>\", \"<span>data</span>\", \"<h1>title</h1>\", \"<a>link</a>\"],  # HTML tag\n",
    "    [\"{data}\", \"[1,2,3]\", \"  {test}  \", \" [a,b,c] \", \"{\\\"key\\\":\\\"value\\\"}\"],  # JSON\n",
    "    [\"key=value\", \"name=John\", \"age=25\", \"color=blue\", \"size=large\"],  # Key-value\n",
    "    [\"Pass123!@#\", \"Secret4$%^\", \"Secure5&*(\", \"Strong6)_+\", \"Complex7<>?\"],  # Password\n",
    "    [\"1\", \"42\", \"128\", \"200\", \"255\"],  # Numbers 1-255\n",
    "    [\"(())\", \"[[]]\", \"{{}}\", \"([])\", \"{[()]}\"],  # Balanced brackets\n",
    "    [\"test.user@domain.com\", \"name_123@server.org\", \"info.desk@company.net\", \"user-name@host.io\", \"admin.sys@site.com\"],  # Extended email\n",
    "    [\"hat\", \"pet cat\", \"big dog\", \"red cup\", \"tea pot\"],  # Three vowels\n",
    "    [\"SecurePass123!\", \"StrongPass456@\", \"ComplexPass789#\", \"SafePass000$\", \"GoodPass321%\"],  # Complex password\n",
    "    [\"1\", \"42\", \"128\", \"200\", \"255\"],  # Extended 0-255\n",
    "    [\"2024-01-01\", \"2023/12/31\", \"2025.06.15\", \"2024-02-29\", \"2023/07/22\"],  # Date\n",
    "    [\"(test)\", \"[data]\", \"{code}\", \"(a+b)\", \"[1,2,3]\"],  # Matched brackets\n",
    "    [\"abcd1234\", \"Test9876\", \"Code5432\", \"Pass1098\", \"User7654\"],  # No triple chars\n",
    "    [\"TestPass123!@#\", \"SecureKey456$%^\", \"StrongPwd789&*(\", \"SafeCode321)_+\", \"ComplexPwd567<>?\"]  # Advanced password\n",
    "]\n",
    "print()"
   ]
  },
  {
   "cell_type": "code",
   "execution_count": null,
   "metadata": {},
   "outputs": [],
   "source": [
    "def insert_sentences_randomly(fp, examples):\n",
    "    # Read the original content of the file\n",
    "    with open(fp, 'r') as file:\n",
    "        lines = file.read()\n",
    "\n",
    "    # Ensure at least one sentence from each subgroup is selected\n",
    "    sentences_to_insert = []\n",
    "    for subgroup in examples:\n",
    "        num_sentences = random.randint(1, len(subgroup))  # Random number of sentences to insert from this subgroup\n",
    "        sentences_to_insert.extend(random.sample(subgroup, num_sentences))  # Randomly select sentences\n",
    "\n",
    "    print(sentences_to_insert)\n",
    "    print(len(sentences_to_insert))\n",
    "    print()\n",
    "\n",
    "\n",
    "    # Determine random positions in the original content\n",
    "    insertion_points = sorted(random.sample(range(len(lines) + 1), len(sentences_to_insert)))\n",
    "    # Insert the sentences at the determined positions\n",
    "    for i, sentence in enumerate(sentences_to_insert):\n",
    "        lines = lines[:insertion_points[i]] + sentence + '\\n' + lines[insertion_points[i]:]\n",
    "        # lines.insert(insertion_points[i], sentence + '\\n')\n",
    "\n",
    "    # Write the modified content back to the file\n",
    "    with open(fp, 'w') as file:\n",
    "        file.writelines(lines)\n",
    "\n",
    "insert_sentences_randomly('input_files/text/0.txt', aaa)\n",
    "insert_sentences_randomly('input_files/text/1.txt', aaa)\n",
    "insert_sentences_randomly('input_files/text/2.txt', aaa)\n",
    "insert_sentences_randomly('input_files/text/3.txt', aaa)\n",
    "insert_sentences_randomly('input_files/text/4.txt', aaa)\n",
    "insert_sentences_randomly('input_files/text/5.txt', aaa)\n",
    "insert_sentences_randomly('input_files/text/6.txt', aaa)\n",
    "insert_sentences_randomly('input_files/text/7.txt', aaa)\n",
    "insert_sentences_randomly('input_files/text/8.txt', aaa)\n",
    "insert_sentences_randomly('input_files/text/9.txt', aaa)"
   ]
  },
  {
   "cell_type": "markdown",
   "metadata": {},
   "source": [
    "### Save the file"
   ]
  },
  {
   "cell_type": "code",
   "execution_count": 41,
   "metadata": {},
   "outputs": [
    {
     "name": "stderr",
     "output_type": "stream",
     "text": [
      "100%|██████████| 10/10 [00:01<00:00,  8.11it/s]\n"
     ]
    }
   ],
   "source": [
    "def func(i):\n",
    "    with open('input_files/text/' + str(i)+\".txt\", 'r') as file:\n",
    "        return file.read()\n",
    "\n",
    "cnt = 0\n",
    "for i in tqdm(range(10)):\n",
    "    for j in [120, 60, 30, 15, 5, 1]:\n",
    "        a = func(i)\n",
    "        with open('input_files/text_new/' + str(cnt) + '.txt', 'w') as file:\n",
    "            file.write( (a + \" \") * j )\n",
    "        cnt += 1"
   ]
  }
 ],
 "metadata": {
  "kernelspec": {
   "display_name": "DL",
   "language": "python",
   "name": "dl"
  },
  "language_info": {
   "codemirror_mode": {
    "name": "ipython",
    "version": 3
   },
   "file_extension": ".py",
   "mimetype": "text/x-python",
   "name": "python",
   "nbconvert_exporter": "python",
   "pygments_lexer": "ipython3",
   "version": "3.10.11"
  }
 },
 "nbformat": 4,
 "nbformat_minor": 2
}
