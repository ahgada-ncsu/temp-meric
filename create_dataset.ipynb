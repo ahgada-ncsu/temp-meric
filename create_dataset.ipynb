{
 "cells": [
  {
   "cell_type": "code",
   "execution_count": 4,
   "metadata": {},
   "outputs": [],
   "source": [
    "from tqdm import tqdm\n",
    "import os\n",
    "import re\n",
    "import pprint\n",
    "import pandas as pd\n",
    "import subprocess\n",
    "import time"
   ]
  },
  {
   "cell_type": "markdown",
   "metadata": {},
   "source": [
    "### Build dataset to find execution time of grep"
   ]
  },
  {
   "cell_type": "code",
   "execution_count": null,
   "metadata": {},
   "outputs": [],
   "source": [
    "# read all files in the folder called regex\n",
    "\n",
    "regex_list = []\n",
    "desc_list = []\n",
    "matcher_list = []\n",
    "regex_complexity = []\n",
    "regex_length = []\n",
    "input_file = []\n",
    "input_file_size = []\n",
    "\n",
    "def calculate_pattern_complexity(patterns):\n",
    "    complexity_scores = []\n",
    "    for pattern in patterns:\n",
    "        complexity = 0\n",
    "        # Increase complexity score for each special regex character\n",
    "        complexity += len(re.findall(r'[.*+?^${}()|[\\]\\\\]', pattern))\n",
    "        # Increase complexity score for pattern length\n",
    "        complexity += len(pattern) / 10\n",
    "        complexity_scores.append(complexity)\n",
    "    # Return average complexity score\n",
    "    return sum(complexity_scores) / len(complexity_scores) if complexity_scores else 0\n",
    "\n",
    "def read_files():\n",
    "    path = os.getcwd()\n",
    "    path = path + \"/regex/text.txt\"\n",
    "    with open(path, 'r') as f:\n",
    "        lines = f.readlines()\n",
    "        for line in lines:\n",
    "            regex = line.split(\"mmm\")[0].strip()\n",
    "            desc = line.split(\"mmm\")[1].strip()\n",
    "            matcher = desc.split(\"[\")[1].split(\"]\")[0]\n",
    "            desc = desc.split(\"[\")[0].strip()\n",
    "\n",
    "            for m in ['-E', '-F', '-G', '-P', '-x']:\n",
    "                for i in os.listdir(\"input_files/text_new/\"):\n",
    "                    regex_list.append(regex)\n",
    "                    desc_list.append(desc)\n",
    "                    matcher_list.append(m)\n",
    "                    regex_length.append(len(regex))\n",
    "                    regex_complexity.append(calculate_pattern_complexity([regex]))\n",
    "                    filename_input = i\n",
    "                    input_file.append(filename_input)\n",
    "                    input_file_size.append(os.path.getsize(\"input_files/text_new/\"+filename_input))\n",
    "read_files()\n",
    "\n",
    "df = pd.DataFrame()\n",
    "df[\"regex\"] = regex_list\n",
    "# df[\"desc\"] = desc_list\n",
    "df[\"matcher\"] = matcher_list\n",
    "df[\"regex_length\"] = regex_length\n",
    "df[\"regex_complexity\"] = regex_complexity\n",
    "df[\"input_file\"] = input_file\n",
    "df[\"input_file_size (bytes)\"] = input_file_size\n",
    "df.head()"
   ]
  },
  {
   "cell_type": "markdown",
   "metadata": {},
   "source": [
    "### find execution time using subprocess"
   ]
  },
  {
   "cell_type": "code",
   "execution_count": null,
   "metadata": {},
   "outputs": [],
   "source": [
    "\n",
    "execution_times = []\n",
    "s = set()\n",
    "\n",
    "for index, row in tqdm(df.iterrows()):\n",
    "    regex = row['regex']\n",
    "    matcher = row['matcher']\n",
    "    input_file = row['input_file']\n",
    "    # print(regex, matcher, input_file)\n",
    "    # print(os.listdir(\".\"))\n",
    "    timee = 0\n",
    "    for i in range(3):\n",
    "        error = False\n",
    "        start_time = time.time()\n",
    "        result = subprocess.run(['grep', matcher, regex, \"input_files/text_new/\"+input_file], stdout=subprocess.PIPE, stderr=subprocess.PIPE)\n",
    "        if result.returncode != 0 and result.stderr:\n",
    "            # print(regex, matcher, input_file)\n",
    "            # print(f\"Error in grep execution: {result.stderr.decode('utf-8')}\")\n",
    "            s.add(f\"Error in grep execution: {result.stderr.decode('utf-8')}\" + \"  \" + regex + \"  \" + matcher)\n",
    "            timee = None  # Mark as failed\n",
    "            error = True\n",
    "            continue\n",
    "        output = result.stdout.decode('utf-8')\n",
    "        if error:\n",
    "            start_time = 0\n",
    "            end_time = 0\n",
    "        else:\n",
    "            end_time = time.time()\n",
    "        timee+=(end_time-start_time)*1000\n",
    "    if timee is not None:\n",
    "        execution_times.append(timee/3)\n",
    "    else:\n",
    "        execution_times.append(\"Error\")\n",
    "\n",
    "# df['execution_time (ms)'] = execution_times\n",
    "df.head()\n",
    "df[\"execution_time (ms)\"] = execution_times"
   ]
  },
  {
   "cell_type": "markdown",
   "metadata": {},
   "source": [
    "### Print the errors stored in set s"
   ]
  },
  {
   "cell_type": "code",
   "execution_count": 27,
   "metadata": {},
   "outputs": [
    {
     "name": "stdout",
     "output_type": "stream",
     "text": [
      "{'Error in grep execution: grep: Invalid back reference\\n  ^(?!.*(\\\\w)\\\\1{2})[a-zA-Z0-9]{8,}$  -E', 'Error in grep execution: grep: Invalid back reference\\n  ^(?!.*(\\\\w)\\\\1{2})[a-zA-Z0-9]{8,}$  -x', 'Error in grep execution: grep: Invalid back reference\\n  ^(?!.*(\\\\w)\\\\1{2})[a-zA-Z0-9]{8,}$  -G', 'Error in grep execution: grep: Invalid content of \\\\{\\\\}\\n  (?<=^|\\\\s)(\\\\([^()]*\\\\)|\\\\[[^\\\\[\\\\]]*\\\\]|\\\\{[^{}]*\\\\})(?=\\\\s|$)  -x', 'Error in grep execution: grep: Invalid content of \\\\{\\\\}\\n  (?<=^|\\\\s)(\\\\([^()]*\\\\)|\\\\[[^\\\\[\\\\]]*\\\\]|\\\\{[^{}]*\\\\})(?=\\\\s|$)  -G'}\n"
     ]
    }
   ],
   "source": [
    "print(s)"
   ]
  },
  {
   "cell_type": "markdown",
   "metadata": {},
   "source": [
    "### Save the dataset"
   ]
  },
  {
   "cell_type": "code",
   "execution_count": 15,
   "metadata": {},
   "outputs": [],
   "source": [
    "df.to_csv(\"output/text_new.csv\", index=False)"
   ]
  },
  {
   "cell_type": "code",
   "execution_count": null,
   "metadata": {},
   "outputs": [],
   "source": [
    "df2 = pd.DataFrame()\n",
    "df2[\"matcher\"] = df[\"matcher\"]\n",
    "df2[\"regex_length\"] = df[\"regex_length\"]\n",
    "df2[\"regex_complexity\"] = df[\"regex_complexity\"]\n",
    "df2[\"input_file_size (bytes)\"] = df[\"input_file_size (bytes)\"]\n",
    "df2[\"file_type\"] = df[\"file_type\"]\n",
    "df2[\"execution_time (ms)\"] = df[\"execution_time (ms)\"]\n",
    "df2"
   ]
  },
  {
   "cell_type": "code",
   "execution_count": 17,
   "metadata": {},
   "outputs": [],
   "source": [
    "df2.to_csv(\"output/text_new_train.csv\", index=False)"
   ]
  }
 ],
 "metadata": {
  "kernelspec": {
   "display_name": "drf",
   "language": "python",
   "name": "drf"
  },
  "language_info": {
   "codemirror_mode": {
    "name": "ipython",
    "version": 3
   },
   "file_extension": ".py",
   "mimetype": "text/x-python",
   "name": "python",
   "nbconvert_exporter": "python",
   "pygments_lexer": "ipython3",
   "version": "3.7.16"
  }
 },
 "nbformat": 4,
 "nbformat_minor": 2
}
